{
  "cells": [
    {
      "cell_type": "markdown",
      "source": [
        "In this project we aim to understand the financial health or the fundamental analysis of GMM Pfaudler.\n",
        "\n",
        "GMM Pfaudler is a market leader of glass lined equipments in India with over 55% market share in the segment.\n",
        "\n",
        "It is a leading supplier of process equipments to the pharmaceutical and chemical industries.\n",
        "Over the years GMMP has diversified its product portfolio to include Mixing Systems, Filtration & Drying Equipment, Engineered Systems and Heavy Engineering Equipments. \n"
      ],
      "metadata": {
        "id": "1Z9j1KaXscwu"
      },
      "id": "1Z9j1KaXscwu"
    },
    {
      "cell_type": "markdown",
      "source": [
        "In This Project we aim at analysing the Return on Capital Employed and the profit and profit Margins of the company over various time frames to judge the financial strength of the company and whether the company is investment worthy using python.\n",
        "\n",
        "We will be reading data from the 3 financial statements(Balance Sheet, Profit and Loss Statment nd the Cash Flow Statement) and loading them into python ad then making our analysis."
      ],
      "metadata": {
        "id": "zY3nQt4YsvPg"
      },
      "id": "zY3nQt4YsvPg"
    },
    {
      "cell_type": "code",
      "execution_count": null,
      "id": "e232866b",
      "metadata": {
        "id": "e232866b"
      },
      "outputs": [],
      "source": [
        "import pandas as pd\n",
        "import numpy as np\n",
        "from pprintpp import pprint\n",
        "import datetime\n",
        "import matplotlib.pyplot as plt\n",
        "import seaborn as sns"
      ]
    },
    {
      "cell_type": "code",
      "execution_count": null,
      "id": "acd3bee3",
      "metadata": {
        "id": "acd3bee3",
        "outputId": "24e0945a-efa8-4e16-8100-406576f2cd33"
      },
      "outputs": [
        {
          "data": {
            "text/html": [
              "<div>\n",
              "<style scoped>\n",
              "    .dataframe tbody tr th:only-of-type {\n",
              "        vertical-align: middle;\n",
              "    }\n",
              "\n",
              "    .dataframe tbody tr th {\n",
              "        vertical-align: top;\n",
              "    }\n",
              "\n",
              "    .dataframe thead th {\n",
              "        text-align: right;\n",
              "    }\n",
              "</style>\n",
              "<table border=\"1\" class=\"dataframe\">\n",
              "  <thead>\n",
              "    <tr style=\"text-align: right;\">\n",
              "      <th></th>\n",
              "      <th>Unnamed: 0</th>\n",
              "      <th>2021-03-01 00:00:00</th>\n",
              "      <th>2020-03-01 00:00:00</th>\n",
              "      <th>2019-03-01 00:00:00</th>\n",
              "      <th>2018-03-01 00:00:00</th>\n",
              "      <th>2017-03-01 00:00:00</th>\n",
              "      <th>2016-03-01 00:00:00</th>\n",
              "      <th>2015-03-01 00:00:00</th>\n",
              "      <th>2014-03-01 00:00:00</th>\n",
              "      <th>2013-03-01 00:00:00</th>\n",
              "      <th>2012-03-01 00:00:00</th>\n",
              "    </tr>\n",
              "  </thead>\n",
              "  <tbody>\n",
              "    <tr>\n",
              "      <th>0</th>\n",
              "      <td>EQUITIES AND LIABILITIES</td>\n",
              "      <td>NaN</td>\n",
              "      <td>NaN</td>\n",
              "      <td>NaN</td>\n",
              "      <td>NaN</td>\n",
              "      <td>NaN</td>\n",
              "      <td>NaN</td>\n",
              "      <td>NaN</td>\n",
              "      <td>NaN</td>\n",
              "      <td>NaN</td>\n",
              "      <td>NaN</td>\n",
              "    </tr>\n",
              "    <tr>\n",
              "      <th>1</th>\n",
              "      <td>SHAREHOLDER'S FUNDS</td>\n",
              "      <td>NaN</td>\n",
              "      <td>NaN</td>\n",
              "      <td>NaN</td>\n",
              "      <td>NaN</td>\n",
              "      <td>NaN</td>\n",
              "      <td>NaN</td>\n",
              "      <td>NaN</td>\n",
              "      <td>NaN</td>\n",
              "      <td>NaN</td>\n",
              "      <td>NaN</td>\n",
              "    </tr>\n",
              "    <tr>\n",
              "      <th>2</th>\n",
              "      <td>Equity Share Capital</td>\n",
              "      <td>2.92</td>\n",
              "      <td>2.92</td>\n",
              "      <td>2.92</td>\n",
              "      <td>2.92</td>\n",
              "      <td>2.92</td>\n",
              "      <td>2.92</td>\n",
              "      <td>2.92</td>\n",
              "      <td>2.92</td>\n",
              "      <td>2.92</td>\n",
              "      <td>2.92</td>\n",
              "    </tr>\n",
              "    <tr>\n",
              "      <th>3</th>\n",
              "      <td>Total Share Capital</td>\n",
              "      <td>2.92</td>\n",
              "      <td>2.92</td>\n",
              "      <td>2.92</td>\n",
              "      <td>2.92</td>\n",
              "      <td>2.92</td>\n",
              "      <td>2.92</td>\n",
              "      <td>2.92</td>\n",
              "      <td>2.92</td>\n",
              "      <td>2.92</td>\n",
              "      <td>2.92</td>\n",
              "    </tr>\n",
              "    <tr>\n",
              "      <th>4</th>\n",
              "      <td>Reserves and Surplus</td>\n",
              "      <td>404.22</td>\n",
              "      <td>340.00</td>\n",
              "      <td>266.01</td>\n",
              "      <td>224.83</td>\n",
              "      <td>190.90</td>\n",
              "      <td>163.91</td>\n",
              "      <td>147.51</td>\n",
              "      <td>136.04</td>\n",
              "      <td>116.36</td>\n",
              "      <td>111.46</td>\n",
              "    </tr>\n",
              "  </tbody>\n",
              "</table>\n",
              "</div>"
            ],
            "text/plain": [
              "                 Unnamed: 0  2021-03-01 00:00:00  2020-03-01 00:00:00  \\\n",
              "0  EQUITIES AND LIABILITIES                  NaN                  NaN   \n",
              "1       SHAREHOLDER'S FUNDS                  NaN                  NaN   \n",
              "2      Equity Share Capital                 2.92                 2.92   \n",
              "3       Total Share Capital                 2.92                 2.92   \n",
              "4      Reserves and Surplus               404.22               340.00   \n",
              "\n",
              "   2019-03-01 00:00:00  2018-03-01 00:00:00  2017-03-01 00:00:00  \\\n",
              "0                  NaN                  NaN                  NaN   \n",
              "1                  NaN                  NaN                  NaN   \n",
              "2                 2.92                 2.92                 2.92   \n",
              "3                 2.92                 2.92                 2.92   \n",
              "4               266.01               224.83               190.90   \n",
              "\n",
              "   2016-03-01 00:00:00  2015-03-01 00:00:00  2014-03-01 00:00:00  \\\n",
              "0                  NaN                  NaN                  NaN   \n",
              "1                  NaN                  NaN                  NaN   \n",
              "2                 2.92                 2.92                 2.92   \n",
              "3                 2.92                 2.92                 2.92   \n",
              "4               163.91               147.51               136.04   \n",
              "\n",
              "   2013-03-01 00:00:00  2012-03-01 00:00:00  \n",
              "0                  NaN                  NaN  \n",
              "1                  NaN                  NaN  \n",
              "2                 2.92                 2.92  \n",
              "3                 2.92                 2.92  \n",
              "4               116.36               111.46  "
            ]
          },
          "execution_count": 2,
          "metadata": {},
          "output_type": "execute_result"
        }
      ],
      "source": [
        "bs = pd.read_excel(\"GMM_pfaudler.xlsx\", sheet_name = 'Balance_Sheets') #BALANCE SHEET LOADED HERE\n",
        "bs.head()"
      ]
    },
    {
      "cell_type": "code",
      "execution_count": null,
      "id": "fbc7e9fd",
      "metadata": {
        "id": "fbc7e9fd",
        "outputId": "a37fad45-6ddd-4a04-d0c4-62a8bd5c22e8"
      },
      "outputs": [
        {
          "data": {
            "text/html": [
              "<div>\n",
              "<style scoped>\n",
              "    .dataframe tbody tr th:only-of-type {\n",
              "        vertical-align: middle;\n",
              "    }\n",
              "\n",
              "    .dataframe tbody tr th {\n",
              "        vertical-align: top;\n",
              "    }\n",
              "\n",
              "    .dataframe thead th {\n",
              "        text-align: right;\n",
              "    }\n",
              "</style>\n",
              "<table border=\"1\" class=\"dataframe\">\n",
              "  <thead>\n",
              "    <tr style=\"text-align: right;\">\n",
              "      <th></th>\n",
              "      <th>Unnamed: 0</th>\n",
              "      <th>2021-03-01 00:00:00</th>\n",
              "      <th>2020-03-01 00:00:00</th>\n",
              "      <th>2019-03-01 00:00:00</th>\n",
              "      <th>2018-03-01 00:00:00</th>\n",
              "      <th>2017-03-01 00:00:00</th>\n",
              "      <th>2016-03-01 00:00:00</th>\n",
              "      <th>2015-03-01 00:00:00</th>\n",
              "      <th>2014-03-01 00:00:00</th>\n",
              "      <th>2013-03-01 00:00:00</th>\n",
              "      <th>2012-03-01 00:00:00</th>\n",
              "    </tr>\n",
              "  </thead>\n",
              "  <tbody>\n",
              "    <tr>\n",
              "      <th>0</th>\n",
              "      <td>INCOME</td>\n",
              "      <td>NaN</td>\n",
              "      <td>NaN</td>\n",
              "      <td>NaN</td>\n",
              "      <td>NaN</td>\n",
              "      <td>NaN</td>\n",
              "      <td>NaN</td>\n",
              "      <td>NaN</td>\n",
              "      <td>NaN</td>\n",
              "      <td>NaN</td>\n",
              "      <td>NaN</td>\n",
              "    </tr>\n",
              "    <tr>\n",
              "      <th>1</th>\n",
              "      <td>Revenue From Operations [Gross]</td>\n",
              "      <td>994.96</td>\n",
              "      <td>586.53</td>\n",
              "      <td>495.42</td>\n",
              "      <td>406.73</td>\n",
              "      <td>374.30</td>\n",
              "      <td>306.42</td>\n",
              "      <td>318.57</td>\n",
              "      <td>288.71</td>\n",
              "      <td>223.57</td>\n",
              "      <td>262.07</td>\n",
              "    </tr>\n",
              "    <tr>\n",
              "      <th>2</th>\n",
              "      <td>Less: Excise/Sevice Tax/Other Levies</td>\n",
              "      <td>0.00</td>\n",
              "      <td>0.00</td>\n",
              "      <td>0.00</td>\n",
              "      <td>5.26</td>\n",
              "      <td>25.09</td>\n",
              "      <td>17.31</td>\n",
              "      <td>14.30</td>\n",
              "      <td>13.75</td>\n",
              "      <td>14.80</td>\n",
              "      <td>14.94</td>\n",
              "    </tr>\n",
              "    <tr>\n",
              "      <th>3</th>\n",
              "      <td>Revenue From Operations [Net]</td>\n",
              "      <td>994.96</td>\n",
              "      <td>586.53</td>\n",
              "      <td>495.42</td>\n",
              "      <td>401.46</td>\n",
              "      <td>349.21</td>\n",
              "      <td>289.11</td>\n",
              "      <td>304.27</td>\n",
              "      <td>274.95</td>\n",
              "      <td>208.77</td>\n",
              "      <td>247.13</td>\n",
              "    </tr>\n",
              "    <tr>\n",
              "      <th>4</th>\n",
              "      <td>Other Operating Revenues</td>\n",
              "      <td>6.16</td>\n",
              "      <td>4.54</td>\n",
              "      <td>7.22</td>\n",
              "      <td>4.24</td>\n",
              "      <td>3.82</td>\n",
              "      <td>2.97</td>\n",
              "      <td>3.36</td>\n",
              "      <td>3.83</td>\n",
              "      <td>4.12</td>\n",
              "      <td>5.30</td>\n",
              "    </tr>\n",
              "  </tbody>\n",
              "</table>\n",
              "</div>"
            ],
            "text/plain": [
              "                             Unnamed: 0  2021-03-01 00:00:00  \\\n",
              "0                                INCOME                  NaN   \n",
              "1       Revenue From Operations [Gross]               994.96   \n",
              "2  Less: Excise/Sevice Tax/Other Levies                 0.00   \n",
              "3         Revenue From Operations [Net]               994.96   \n",
              "4              Other Operating Revenues                 6.16   \n",
              "\n",
              "   2020-03-01 00:00:00  2019-03-01 00:00:00  2018-03-01 00:00:00  \\\n",
              "0                  NaN                  NaN                  NaN   \n",
              "1               586.53               495.42               406.73   \n",
              "2                 0.00                 0.00                 5.26   \n",
              "3               586.53               495.42               401.46   \n",
              "4                 4.54                 7.22                 4.24   \n",
              "\n",
              "   2017-03-01 00:00:00  2016-03-01 00:00:00  2015-03-01 00:00:00  \\\n",
              "0                  NaN                  NaN                  NaN   \n",
              "1               374.30               306.42               318.57   \n",
              "2                25.09                17.31                14.30   \n",
              "3               349.21               289.11               304.27   \n",
              "4                 3.82                 2.97                 3.36   \n",
              "\n",
              "   2014-03-01 00:00:00  2013-03-01 00:00:00  2012-03-01 00:00:00  \n",
              "0                  NaN                  NaN                  NaN  \n",
              "1               288.71               223.57               262.07  \n",
              "2                13.75                14.80                14.94  \n",
              "3               274.95               208.77               247.13  \n",
              "4                 3.83                 4.12                 5.30  "
            ]
          },
          "execution_count": 3,
          "metadata": {},
          "output_type": "execute_result"
        }
      ],
      "source": [
        "pnl = pd.read_excel(\"GMM_pfaudler.xlsx\", sheet_name = 'PnL') #PROFIT AND LOSS STATEMENT LOADED HERE\n",
        "pnl.head()"
      ]
    },
    {
      "cell_type": "code",
      "execution_count": null,
      "id": "6b43855b",
      "metadata": {
        "id": "6b43855b",
        "outputId": "b5413297-2324-4160-ec8c-7e760da48412"
      },
      "outputs": [
        {
          "data": {
            "text/plain": [
              "Index([       'Unnamed: 0', 2021-03-01 00:00:00, 2020-03-01 00:00:00,\n",
              "       2019-03-01 00:00:00, 2018-03-01 00:00:00, 2017-03-01 00:00:00,\n",
              "       2016-03-01 00:00:00, 2015-03-01 00:00:00, 2014-03-01 00:00:00,\n",
              "       2013-03-01 00:00:00, 2012-03-01 00:00:00],\n",
              "      dtype='object')"
            ]
          },
          "execution_count": 4,
          "metadata": {},
          "output_type": "execute_result"
        }
      ],
      "source": [
        "pnl.columns"
      ]
    },
    {
      "cell_type": "code",
      "execution_count": null,
      "id": "fe1689bd",
      "metadata": {
        "id": "fe1689bd",
        "outputId": "8973fc88-71ef-4298-bc98-b5b95ea1fa42"
      },
      "outputs": [
        {
          "data": {
            "text/plain": [
              "0                                                INCOME\n",
              "1                       Revenue From Operations [Gross]\n",
              "2                  Less: Excise/Sevice Tax/Other Levies\n",
              "3                         Revenue From Operations [Net]\n",
              "4                              Other Operating Revenues\n",
              "5                              Total Operating Revenues\n",
              "6                                          Other Income\n",
              "7                                         Total Revenue\n",
              "8                                              EXPENSES\n",
              "9                            Cost Of Materials Consumed\n",
              "10    Changes In Inventories Of FG,WIP And Stock-In ...\n",
              "11                            Employee Benefit Expenses\n",
              "12                                        Finance Costs\n",
              "13               Depreciation And Amortisation Expenses\n",
              "14                                       Other Expenses\n",
              "15                                       Total Expenses\n",
              "16    Profit/Loss Before Exceptional, ExtraOrdinary ...\n",
              "17                                    Exceptional Items\n",
              "18                               Profit/Loss Before Tax\n",
              "19                    Tax Expenses-Continued Operations\n",
              "20                                          Current Tax\n",
              "21                                         Deferred Tax\n",
              "22                                Tax For Earlier Years\n",
              "23                                   Total Tax Expenses\n",
              "24    Profit/Loss After Tax And Before ExtraOrdinary...\n",
              "25               Profit/Loss From Continuing Operations\n",
              "26                           Profit/Loss For The Period\n",
              "27                                    Minority Interest\n",
              "28     Consolidated Profit/Loss After MI And Associates\n",
              "29                         OTHER ADDITIONAL INFORMATION\n",
              "30                                   EARNINGS PER SHARE\n",
              "31                                      Basic EPS (Rs.)\n",
              "32                                    Diluted EPS (Rs.)\n",
              "33                     DIVIDEND AND DIVIDEND PERCENTAGE\n",
              "34                                Equity Share Dividend\n",
              "35                                      Tax On Dividend\n",
              "Name: Unnamed: 0, dtype: object"
            ]
          },
          "execution_count": 5,
          "metadata": {},
          "output_type": "execute_result"
        }
      ],
      "source": [
        "pnl['Unnamed: 0'] #P&L ROWS"
      ]
    },
    {
      "cell_type": "code",
      "execution_count": null,
      "id": "78796c4d",
      "metadata": {
        "scrolled": true,
        "id": "78796c4d",
        "outputId": "3304033d-3284-4614-f55e-0b4407511adf"
      },
      "outputs": [
        {
          "data": {
            "text/plain": [
              "Index([       'Unnamed: 0', 2021-03-01 00:00:00, 2020-03-01 00:00:00,\n",
              "       2019-03-01 00:00:00, 2018-03-01 00:00:00, 2017-03-01 00:00:00,\n",
              "       2016-03-01 00:00:00, 2015-03-01 00:00:00, 2014-03-01 00:00:00,\n",
              "       2013-03-01 00:00:00, 2012-03-01 00:00:00],\n",
              "      dtype='object')"
            ]
          },
          "execution_count": 6,
          "metadata": {},
          "output_type": "execute_result"
        }
      ],
      "source": [
        "bs.columns"
      ]
    },
    {
      "cell_type": "code",
      "execution_count": null,
      "id": "e6f54061",
      "metadata": {
        "id": "e6f54061",
        "outputId": "082be5b9-039c-41b3-e161-ed8daaf90f5d"
      },
      "outputs": [
        {
          "data": {
            "text/plain": [
              "0                        EQUITIES AND LIABILITIES\n",
              "1                             SHAREHOLDER'S FUNDS\n",
              "2                            Equity Share Capital\n",
              "3                             Total Share Capital\n",
              "4                            Reserves and Surplus\n",
              "5                      Total Reserves and Surplus\n",
              "6                        Total Shareholders Funds\n",
              "7                               Minority Interest\n",
              "8                         NON-CURRENT LIABILITIES\n",
              "9                            Long Term Borrowings\n",
              "10                 Deferred Tax Liabilities [Net]\n",
              "11                    Other Long Term Liabilities\n",
              "12                           Long Term Provisions\n",
              "13                  Total Non-Current Liabilities\n",
              "14                            CURRENT LIABILITIES\n",
              "15                          Short Term Borrowings\n",
              "16                                 Trade Payables\n",
              "17                      Other Current Liabilities\n",
              "18                          Short Term Provisions\n",
              "19                      Total Current Liabilities\n",
              "20                  Total Capital And Liabilities\n",
              "21                                         ASSETS\n",
              "22                             NON-CURRENT ASSETS\n",
              "23                                Tangible Assets\n",
              "24                              Intangible Assets\n",
              "25                       Capital Work-In-Progress\n",
              "26            Intangible Assets Under Development\n",
              "27                                   Fixed Assets\n",
              "28                        Non-Current Investments\n",
              "29                      Deferred Tax Assets [Net]\n",
              "30                   Long Term Loans And Advances\n",
              "31                       Other Non-Current Assets\n",
              "32                       Total Non-Current Assets\n",
              "33                                 CURRENT ASSETS\n",
              "34                            Current Investments\n",
              "35                                    Inventories\n",
              "36                              Trade Receivables\n",
              "37                      Cash And Cash Equivalents\n",
              "38                  Short Term Loans And Advances\n",
              "39                             OtherCurrentAssets\n",
              "40                           Total Current Assets\n",
              "41                                   Total Assets\n",
              "42                   OTHER ADDITIONAL INFORMATION\n",
              "43            CONTINGENT LIABILITIES, COMMITMENTS\n",
              "44                         Contingent Liabilities\n",
              "45                                  BONUS DETAILS\n",
              "46                     Bonus Equity Share Capital\n",
              "47                        NON-CURRENT INVESTMENTS\n",
              "48    Non-Current Investments Quoted Market Value\n",
              "49    Non-Current Investments Unquoted Book Value\n",
              "50                            CURRENT INVESTMENTS\n",
              "51        Current Investments Unquoted Book Value\n",
              "Name: Unnamed: 0, dtype: object"
            ]
          },
          "execution_count": 7,
          "metadata": {},
          "output_type": "execute_result"
        }
      ],
      "source": [
        "bs['Unnamed: 0'] #BALANCE SHEET ROWS"
      ]
    },
    {
      "cell_type": "code",
      "execution_count": null,
      "id": "38d0be2e",
      "metadata": {
        "id": "38d0be2e",
        "outputId": "3f337fcb-0f44-4612-eb57-35b971969b48"
      },
      "outputs": [
        {
          "name": "stdout",
          "output_type": "stream",
          "text": [
            "{\n",
            "    datetime.datetime(2013, 3, 1, 0, 0): -2.4169184290030232,\n",
            "    datetime.datetime(2014, 3, 1, 0, 0): 96.69762641898865,\n",
            "    datetime.datetime(2015, 3, 1, 0, 0): -0.9968520461699777,\n",
            "    datetime.datetime(2016, 3, 1, 0, 0): 6.624271330153682,\n",
            "    datetime.datetime(2017, 3, 1, 0, 0): 54.67196819085487,\n",
            "    datetime.datetime(2018, 3, 1, 0, 0): 37.146529562981996,\n",
            "    datetime.datetime(2019, 3, 1, 0, 0): 18.509840674789125,\n",
            "    datetime.datetime(2020, 3, 1, 0, 0): 40.628706998813755,\n",
            "    datetime.datetime(2021, 3, 1, 0, 0): 3.1351047378040264,\n",
            "}\n"
          ]
        }
      ],
      "source": [
        "#% PROFIT AFTER TAX GROWTH OF THE COMPANY\n",
        "PAT = pnl.loc[28,:].to_dict()\n",
        "PAT.pop('Unnamed: 0')\n",
        "keys = list(PAT.keys())\n",
        "PAT_percent_growth = {}\n",
        "for i in range(len(keys)-1):\n",
        "    PAT_percent_growth[keys[i]] = (PAT[keys[i]]- PAT[keys[i+1]])*100/PAT[keys[i+1]]\n",
        "pprint(PAT_percent_growth)"
      ]
    },
    {
      "cell_type": "code",
      "execution_count": null,
      "id": "61610806",
      "metadata": {
        "id": "61610806",
        "outputId": "f15898ae-ec09-4be3-ec9b-9966f7bfecb1"
      },
      "outputs": [
        {
          "name": "stdout",
          "output_type": "stream",
          "text": [
            "{\n",
            "    datetime.datetime(2013, 3, 1, 0, 0): -14.913890733002695,\n",
            "    datetime.datetime(2014, 3, 1, 0, 0): 29.709014136221782,\n",
            "    datetime.datetime(2015, 3, 1, 0, 0): 9.76964721701285,\n",
            "    datetime.datetime(2016, 3, 1, 0, 0): -4.674102250016118,\n",
            "    datetime.datetime(2017, 3, 1, 0, 0): 21.303936155823074,\n",
            "    datetime.datetime(2018, 3, 1, 0, 0): 15.714206066012473,\n",
            "    datetime.datetime(2019, 3, 1, 0, 0): 23.127514514924474,\n",
            "    datetime.datetime(2020, 3, 1, 0, 0): 16.77591030933888,\n",
            "    datetime.datetime(2021, 3, 1, 0, 0): 71.67367592111654,\n",
            "}\n"
          ]
        }
      ],
      "source": [
        "#%REVENUE GROWTH OF COMAPANY\n",
        "revenue = pnl.loc[7,:].to_dict()\n",
        "revenue.pop('Unnamed: 0')\n",
        "keys2 = list(revenue.keys())\n",
        "revenue_percent_growth = {}\n",
        "for i in range(len(keys2)-1):\n",
        "    revenue_percent_growth[keys2[i]] = (revenue[keys2[i]]- revenue[keys2[i+1]])*100/revenue[keys2[i+1]]\n",
        "pprint(revenue_percent_growth)"
      ]
    },
    {
      "cell_type": "code",
      "execution_count": null,
      "id": "9cc8f072",
      "metadata": {
        "id": "9cc8f072",
        "outputId": "4fcffa73-d29c-490a-c2b7-7c3b6f3e5325"
      },
      "outputs": [
        {
          "name": "stdout",
          "output_type": "stream",
          "text": [
            "Unnamed: 0             Depreciation And Amortisation Expenses\n",
            "2021-03-01 00:00:00                                     50.55\n",
            "2020-03-01 00:00:00                                     21.12\n",
            "2019-03-01 00:00:00                                     10.97\n",
            "2018-03-01 00:00:00                                      9.79\n",
            "2017-03-01 00:00:00                                      8.23\n",
            "2016-03-01 00:00:00                                      8.12\n",
            "2015-03-01 00:00:00                                      9.83\n",
            "2014-03-01 00:00:00                                       8.9\n",
            "2013-03-01 00:00:00                                      7.24\n",
            "2012-03-01 00:00:00                                      6.38\n",
            "Name: 13, dtype: object\n"
          ]
        }
      ],
      "source": [
        "#CALCULATING THE DEPRECIATION AND AMORTIZATION EXPENSES IN P&L\n",
        "dep_amort = pnl.loc[13,:]\n",
        "pprint(dep_amort)\n",
        "#HERE WE CAN SEE THAT THEY HAVE PUSHED OF MAX DEPRECIATION AND AMORTIZATION TO 2021 SO THEIR PROFITS HAVE TAKEN A SHORT TERM HIT"
      ]
    },
    {
      "cell_type": "code",
      "execution_count": null,
      "id": "69cc13f1",
      "metadata": {
        "id": "69cc13f1",
        "outputId": "6e429920-5e84-4626-d312-f8743fc020e7"
      },
      "outputs": [
        {
          "name": "stdout",
          "output_type": "stream",
          "text": [
            "{\n",
            "    datetime.datetime(2012, 3, 1, 0, 0): 14.069999999999993,\n",
            "    datetime.datetime(2013, 3, 1, 0, 0): 13.409999999999997,\n",
            "    datetime.datetime(2014, 3, 1, 0, 0): 27.090000000000003,\n",
            "    datetime.datetime(2015, 3, 1, 0, 0): 28.190000000000055,\n",
            "    datetime.datetime(2016, 3, 1, 0, 0): 29.80000000000001,\n",
            "    datetime.datetime(2017, 3, 1, 0, 0): 44.06,\n",
            "    datetime.datetime(2018, 3, 1, 0, 0): 60.64999999999998,\n",
            "    datetime.datetime(2019, 3, 1, 0, 0): 73.26999999999998,\n",
            "    datetime.datetime(2020, 3, 1, 0, 0): 92.29000000000002,\n",
            "    datetime.datetime(2021, 3, 1, 0, 0): 101.37999999999988,\n",
            "}\n"
          ]
        }
      ],
      "source": [
        "#CALCULATING EBIT(EARNINGS BEFORE INTEREST AND TAXES)\n",
        "tot_rev = pnl.loc[7,:].to_dict()\n",
        "tot_exp = pnl.loc[15,:].to_dict()\n",
        "tot_rev.pop('Unnamed: 0')\n",
        "tot_exp.pop('Unnamed: 0')\n",
        "EBIT = {}\n",
        "for key in tot_rev.keys():\n",
        "    EBIT[key] = tot_rev[key] - tot_exp[key]\n",
        "pprint(EBIT)"
      ]
    },
    {
      "cell_type": "code",
      "execution_count": null,
      "id": "63f38fd1",
      "metadata": {
        "id": "63f38fd1",
        "outputId": "4acfd7fc-5dcd-4804-c703-b47b855a4d0a"
      },
      "outputs": [
        {
          "name": "stdout",
          "output_type": "stream",
          "text": [
            "2021-03-01 00:00:00    802.43\n",
            "2020-03-01 00:00:00    164.46\n",
            "2019-03-01 00:00:00    144.66\n",
            "2018-03-01 00:00:00    147.26\n",
            "2017-03-01 00:00:00    113.78\n",
            "2016-03-01 00:00:00     85.02\n",
            "2015-03-01 00:00:00     80.04\n",
            "2014-03-01 00:00:00     91.01\n",
            "2013-03-01 00:00:00     70.75\n",
            "2012-03-01 00:00:00     63.05\n",
            "Name: 19, dtype: object\n"
          ]
        }
      ],
      "source": [
        "#CALCULATING THE LIABILTIES OF THE COMPANY\n",
        "tot_c_liabilities = bs.loc[19,:]\n",
        "tot_c_liabilities.pop('Unnamed: 0')\n",
        "pprint(tot_c_liabilities)"
      ]
    },
    {
      "cell_type": "code",
      "execution_count": null,
      "id": "54845ae2",
      "metadata": {
        "id": "54845ae2",
        "outputId": "d1ce1176-c412-44c1-d320-111ba3c12426"
      },
      "outputs": [
        {
          "name": "stdout",
          "output_type": "stream",
          "text": [
            "{\n",
            "    datetime.datetime(2012, 3, 1, 0, 0): 183.2,\n",
            "    datetime.datetime(2013, 3, 1, 0, 0): 195.32,\n",
            "    datetime.datetime(2014, 3, 1, 0, 0): 234.64,\n",
            "    datetime.datetime(2015, 3, 1, 0, 0): 234.37,\n",
            "    datetime.datetime(2016, 3, 1, 0, 0): 255.64,\n",
            "    datetime.datetime(2017, 3, 1, 0, 0): 318.42,\n",
            "    datetime.datetime(2018, 3, 1, 0, 0): 392.33,\n",
            "    datetime.datetime(2019, 3, 1, 0, 0): 434.38,\n",
            "    datetime.datetime(2020, 3, 1, 0, 0): 543.49,\n",
            "    datetime.datetime(2021, 3, 1, 0, 0): 2417.49,\n",
            "}\n"
          ]
        }
      ],
      "source": [
        "#CALCULATING THE ASSETS OF THE COMPANY\n",
        "tot_assets = bs.loc[41, :].to_dict()\n",
        "tot_assets.pop('Unnamed: 0')\n",
        "pprint(tot_assets)"
      ]
    },
    {
      "cell_type": "code",
      "execution_count": null,
      "id": "7bed5079",
      "metadata": {
        "id": "7bed5079",
        "outputId": "e4a69ce1-1739-4574-f65f-4415381245b8"
      },
      "outputs": [
        {
          "name": "stdout",
          "output_type": "stream",
          "text": [
            "{\n",
            "    datetime.datetime(2012, 3, 1, 0, 0): 11.710362047440695,\n",
            "    datetime.datetime(2013, 3, 1, 0, 0): 10.76503170907923,\n",
            "    datetime.datetime(2014, 3, 1, 0, 0): 18.86096219452761,\n",
            "    datetime.datetime(2015, 3, 1, 0, 0): 18.266053262489507,\n",
            "    datetime.datetime(2016, 3, 1, 0, 0): 17.465713280975272,\n",
            "    datetime.datetime(2017, 3, 1, 0, 0): 21.530492572322125,\n",
            "    datetime.datetime(2018, 3, 1, 0, 0): 24.748031174766385,\n",
            "    datetime.datetime(2019, 3, 1, 0, 0): 25.28993510976114,\n",
            "    datetime.datetime(2020, 3, 1, 0, 0): 24.34899612167903,\n",
            "    datetime.datetime(2021, 3, 1, 0, 0): 6.277166173392932,\n",
            "}\n"
          ]
        }
      ],
      "source": [
        "#CALCULATING THE RETURN OF CAPITAL EMPLOYED OF THE COMPANY.\n",
        "roce = {}\n",
        "keys3 = list(EBIT.keys())\n",
        "for key in keys3:\n",
        "    roce[key] = (EBIT[key] * 100)/(tot_assets[key]  - tot_c_liabilities[key])\n",
        "pprint(roce)"
      ]
    },
    {
      "cell_type": "code",
      "execution_count": null,
      "id": "2f5eb2e8",
      "metadata": {
        "id": "2f5eb2e8",
        "outputId": "12cfcc9a-133e-4e2d-fffa-9b922b2d491c"
      },
      "outputs": [
        {
          "data": {
            "image/png": "[encoded data removed]",
            "text/plain": [
              "<Figure size 432x288 with 1 Axes>"
            ]
          },
          "metadata": {
            "needs_background": "light"
          },
          "output_type": "display_data"
        }
      ],
      "source": [
        "#BAR PLOT TO SHOW THE GROWTH % OF ROCE HAS BEEN SUBSTANTIAL ACROSS THE YEARS >20% AGGREGRATE IN THE LAST 10 YEARS\n",
        "X_roce = [key.year for key in roce.keys()]\n",
        "Y_roce = [roce[key] for key in roce.keys()]\n",
        "sns.barplot(x = X_roce, y = Y_roce)\n",
        "plt.xticks(rotation = 45)\n",
        "plt.title(\"ROCE\")\n",
        "plt.ylabel(\"Growth %\")\n",
        "plt.show()"
      ]
    },
    {
      "cell_type": "code",
      "execution_count": null,
      "id": "63bbfde4",
      "metadata": {
        "id": "63bbfde4",
        "outputId": "2da915ad-d4c0-4356-9c36-ea338fafd910"
      },
      "outputs": [
        {
          "data": {
            "image/png": "[encoded data removed]",
            "text/plain": [
              "<Figure size 432x288 with 1 Axes>"
            ]
          },
          "metadata": {
            "needs_background": "light"
          },
          "output_type": "display_data"
        }
      ],
      "source": [
        "#BAR PLOT TO UNDERSTAND THE ROCE GROWTH IN 10 YEARS\n",
        "plt.plot(X_roce, Y_roce)\n",
        "plt.xticks(rotation = 45)\n",
        "plt.title(\"ROCE Growth\")\n",
        "plt.ylabel(\"Growth % yoy\")\n",
        "plt.show()"
      ]
    },
    {
      "cell_type": "code",
      "execution_count": null,
      "id": "e33bf7fe",
      "metadata": {
        "id": "e33bf7fe",
        "outputId": "a1e7cd46-9cb7-4889-f779-dee3a227effc"
      },
      "outputs": [
        {
          "data": {
            "image/png": "[encoded data removed]",
            "text/plain": [
              "<Figure size 432x288 with 1 Axes>"
            ]
          },
          "metadata": {
            "needs_background": "light"
          },
          "output_type": "display_data"
        }
      ],
      "source": [
        "#BAR PLOT TO SHOW THE PROFIT GROWTH OVER THE LAST 10 YEARS.\n",
        "X_pat_growth = [key.year for key in PAT_percent_growth.keys()]\n",
        "Y_pat_growth = [PAT_percent_growth[key] for key in PAT_percent_growth.keys()]\n",
        "sns.barplot(x = X_pat_growth, y = Y_pat_growth)\n",
        "plt.xticks(rotation = 45)\n",
        "plt.title(\"PAT Growth %\")\n",
        "plt.ylabel(\"Growth %\")\n",
        "plt.show()"
      ]
    },
    {
      "cell_type": "code",
      "execution_count": null,
      "id": "b7113468",
      "metadata": {
        "id": "b7113468"
      },
      "outputs": [],
      "source": []
    }
  ],
  "metadata": {
    "kernelspec": {
      "display_name": "Python 3 (ipykernel)",
      "language": "python",
      "name": "python3"
    },
    "language_info": {
      "codemirror_mode": {
        "name": "ipython",
        "version": 3
      },
      "file_extension": ".py",
      "mimetype": "text/x-python",
      "name": "python",
      "nbconvert_exporter": "python",
      "pygments_lexer": "ipython3",
      "version": "3.10.0"
    },
    "colab": {
      "provenance": []
    }
  },
  "nbformat": 4,
  "nbformat_minor": 5
}